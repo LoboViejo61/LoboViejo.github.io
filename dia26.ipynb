{
  "nbformat": 4,
  "nbformat_minor": 0,
  "metadata": {
    "colab": {
      "provenance": [],
      "include_colab_link": true
    },
    "kernelspec": {
      "name": "python3",
      "display_name": "Python 3"
    },
    "language_info": {
      "name": "python"
    }
  },
  "cells": [
    {
      "cell_type": "markdown",
      "metadata": {
        "id": "view-in-github",
        "colab_type": "text"
      },
      "source": [
        "<a href=\"https://colab.research.google.com/github/LoboViejo61/LoboViejo.github.io/blob/main/dia26.ipynb\" target=\"_parent\"><img src=\"https://colab.research.google.com/assets/colab-badge.svg\" alt=\"Open In Colab\"/></a>"
      ]
    },
    {
      "cell_type": "code",
      "execution_count": null,
      "metadata": {
        "colab": {
          "base_uri": "https://localhost:8080/"
        },
        "id": "STIr9eOLxbVQ",
        "outputId": "b59877c8-1886-49dd-d37b-2a1a471e3f15"
      },
      "outputs": [
        {
          "output_type": "stream",
          "name": "stdout",
          "text": [
            "Positivos: 5\n",
            "Negativos: 4\n",
            "Ceros: 3\n"
          ]
        }
      ],
      "source": [
        "# Paso 1: Crear una lista de números enteros\n",
        "numeros = [-10, 15, 0, 7, -3, 0, 14, -9, 22, -6, 9, 0]\n",
        "\n",
        "# Paso 2: Inicializar contadores\n",
        "cont_positivos = 0\n",
        "cont_negativos = 0\n",
        "cont_ceros = 0\n",
        "\n",
        "# Paso 3: Iterar sobre la lista de números\n",
        "for num in numeros:\n",
        "    # Paso 4: Verificar la categoría de cada número y actualizar los contadores\n",
        "    if num > 0:\n",
        "        cont_positivos += 1\n",
        "    elif num < 0:\n",
        "        cont_negativos += 1\n",
        "    else:\n",
        "        cont_ceros += 1\n",
        "\n",
        "# Paso 5: Imprimir los conteos\n",
        "print(f'Positivos: {cont_positivos}')\n",
        "print(f'Negativos: {cont_negativos}')\n",
        "print(f'Ceros: {cont_ceros}')\n"
      ]
    },
    {
      "cell_type": "code",
      "source": [
        "# importamos la libreria re\n",
        "import re\n",
        "\n",
        "# crea una funcion para verificar el contenido de una cadena de texto que contengan @ y .\n",
        "def validar_email(email):\n",
        "    \"\"\"Función para validar una dirección de correo electrónico.\"\"\"\n",
        "    regex = re.compile(r\"[^@]+@[^@]+\\.[^@]+\")\n",
        "    if regex.match(email):\n",
        "        return \"Correo válido\"\n",
        "    else:\n",
        "        return \"Correo inválido\"\n",
        "\n",
        "# Validar un correo electrónico\n",
        "print(validar_email(\"teste@xample.com\"))\n"
      ],
      "metadata": {
        "colab": {
          "base_uri": "https://localhost:8080/"
        },
        "id": "sTESvx59zsh2",
        "outputId": "9c6ab860-afb2-47cf-805d-f3c561e1c643"
      },
      "execution_count": null,
      "outputs": [
        {
          "output_type": "stream",
          "name": "stdout",
          "text": [
            "Correo válido\n"
          ]
        }
      ]
    },
    {
      "cell_type": "code",
      "source": [
        "import re  # Importa la biblioteca re\n",
        "\n",
        "# Busca la palabra \"Python\" en la cadena de texto\n",
        "resultado = re.search(\"Python\", \"Aprender Python es divertido\")\n",
        "\n",
        "# Si se encuentra el patrón, imprime la posición en la que comienza y termina\n",
        "if resultado:\n",
        "    print(f\"Se encontró 'Python' desde la posición {resultado.start()} hasta la posición {resultado.end()}\")\n",
        "else:\n",
        "    print(\"No se encontró 'Python'\")\n"
      ],
      "metadata": {
        "colab": {
          "base_uri": "https://localhost:8080/"
        },
        "id": "_ObbOd8z2tmG",
        "outputId": "f495e4a9-4614-41ee-831c-4967581ceede"
      },
      "execution_count": null,
      "outputs": [
        {
          "output_type": "stream",
          "name": "stdout",
          "text": [
            "Se encontró 'Python' desde la posición 9 hasta la posición 15\n"
          ]
        }
      ]
    },
    {
      "cell_type": "code",
      "source": [
        "# funcion para manejo de errores al dividir (ejemplo)\n",
        "def dividir(a, b):\n",
        "    \"\"\"Función para dividir dos números con manejo de excepciones.\"\"\"\n",
        "    try:\n",
        "        resultado = a / b\n",
        "    except ZeroDivisionError:\n",
        "        return \"Error: División por cero.\"\n",
        "    except TypeError:\n",
        "        return \"Error: Entrada no numérica.\"\n",
        "    else:\n",
        "        return resultado\n",
        "\n",
        "# Dividir dos números\n",
        "print(dividir(10, \"ml\"))\n"
      ],
      "metadata": {
        "colab": {
          "base_uri": "https://localhost:8080/"
        },
        "id": "2icuRP9U3rGo",
        "outputId": "689ebe21-ac17-48a0-b123-2404cc6fabf6"
      },
      "execution_count": null,
      "outputs": [
        {
          "output_type": "stream",
          "name": "stdout",
          "text": [
            "Error: Entrada no numérica.\n"
          ]
        }
      ]
    },
    {
      "cell_type": "code",
      "source": [
        "# calcular distancia entre 2 puntos\n",
        "import math\n",
        "\n",
        "def calcular_distancia(p1, p2):\n",
        "    \"\"\"Función para calcular la distancia entre dos puntos.\"\"\"\n",
        "    distancia = math.sqrt((p2[0] - p1[0])**2 + (p2[1] - p1[1])**2)\n",
        "    return distancia\n",
        "\n",
        "# Calcular distancia\n",
        "print(calcular_distancia((0, 0), (3, 4)))\n"
      ],
      "metadata": {
        "id": "9Q4xLZeh5QMF"
      },
      "execution_count": null,
      "outputs": []
    },
    {
      "cell_type": "code",
      "source": [
        "# otro ejemplo de try\n",
        "\n",
        "def obtener_valor(diccionario, clave):\n",
        "    try:\n",
        "        # Intentamos obtener el valor asociado a la clave proporcionada\n",
        "        valor = diccionario[clave]\n",
        "    except KeyError:\n",
        "        # Manejo de la excepción de clave no encontrada\n",
        "        print(f\"Error: La clave '{clave}' no se encuentra en el diccionario.\")\n",
        "    else:\n",
        "        # Este bloque se ejecutará si no ocurre ninguna excepción\n",
        "        print(f\"El valor asociado a la clave '{clave}' es: {valor}\")\n",
        "    finally:\n",
        "        # Este bloque se ejecutará siempre, independientemente de si se produjo una excepción o no\n",
        "        print(\"Operación de búsqueda finalizada.\")\n",
        "\n",
        "# Definimos un diccionario\n",
        "mi_diccionario = {\n",
        "    \"nombre\": \"Juan\",\n",
        "    \"edad\": 25,\n",
        "    \"ciudad\": \"Madrid\"\n",
        "}\n",
        "\n",
        "# Llamada a la función obtener_valor con una clave existente\n",
        "obtener_valor(mi_diccionario, \"nombre\")\n",
        "\n",
        "# Llamada a la función obtener_valor con una clave no existente\n",
        "obtener_valor(mi_diccionario, \"pais\")\n"
      ],
      "metadata": {
        "colab": {
          "base_uri": "https://localhost:8080/"
        },
        "id": "MFAaFLrw9DW0",
        "outputId": "2b3890fb-3b59-4b54-e3d4-23d46ca8d07b"
      },
      "execution_count": null,
      "outputs": [
        {
          "output_type": "stream",
          "name": "stdout",
          "text": [
            "El valor asociado a la clave 'nombre' es: Juan\n",
            "Operación de búsqueda finalizada.\n",
            "Error: La clave 'pais' no se encuentra en el diccionario.\n",
            "Operación de búsqueda finalizada.\n"
          ]
        }
      ]
    },
    {
      "cell_type": "code",
      "source": [
        "# generar un class\n",
        "class Persona:\n",
        "    \"\"\"Clase para representar una persona.\"\"\"\n",
        "\n",
        "    def __init__(self, nombre, edad):\n",
        "        self.nombre = nombre\n",
        "        self.edad = edad\n",
        "\n",
        "    def presentarse(self):\n",
        "        return f\"Hola, mi nombre es {self.nombre} y tengo {self.edad} años.\"\n",
        "\n",
        "# Crear un objeto Persona\n",
        "persona = Persona(\"Juanito\", 52)\n",
        "print(persona.presentarse())\n"
      ],
      "metadata": {
        "colab": {
          "base_uri": "https://localhost:8080/"
        },
        "id": "mkkrnb5E_gv6",
        "outputId": "25d3c67a-5c3f-49dd-ae35-270744e79599"
      },
      "execution_count": null,
      "outputs": [
        {
          "output_type": "stream",
          "name": "stdout",
          "text": [
            "Hola, mi nombre es Juanito y tengo 52 años.\n"
          ]
        }
      ]
    },
    {
      "cell_type": "code",
      "source": [
        "# Este código funcionará en cualquier versión de Python\n",
        "opcion = 'c'  # Definimos una variable con un valor que deseamos comparar\n",
        "\n",
        "# Inicio de la serie de instrucciones if-elif-else\n",
        "if opcion == 'a':  # Si el valor de 'opcion' es 'a', este bloque se ejecutará\n",
        "    print(\"Seleccionaste la opción A\")\n",
        "elif opcion == 'b':  # Si el valor de 'opcion' es 'b', este bloque se ejecutará\n",
        "    print(\"Seleccionaste la opción B\")\n",
        "elif opcion == 'c':  # Si el valor de 'opcion' es 'c', este bloque se ejecutará\n",
        "    print(\"Seleccionaste la opción C\")\n",
        "else:  # Si el valor de 'opcion' no coincide con ningún caso anterior, este bloque se ejecutará\n",
        "    print(\"Opción no reconocida\")\n",
        "\n"
      ],
      "metadata": {
        "colab": {
          "base_uri": "https://localhost:8080/"
        },
        "id": "QCKd2tCEAcyg",
        "outputId": "88adb994-414f-4873-f6be-204e68b0d01d"
      },
      "execution_count": null,
      "outputs": [
        {
          "output_type": "stream",
          "name": "stdout",
          "text": [
            "Seleccionaste la opción C\n"
          ]
        }
      ]
    },
    {
      "cell_type": "code",
      "source": [
        "# Asegúrate de estar utilizando Python 3.10 o superior para este ejemplo\n",
        "opcion = 'b'  # Definimos una variable con un valor que deseamos comparar\n",
        "\n",
        "# Inicio de la instrucción match\n",
        "match opcion:\n",
        "    # Si el valor de 'opcion' es 'a', este caso se ejecutará\n",
        "    case 'a':\n",
        "        print(\"Seleccionaste la opción A\")\n",
        "    # Si el valor de 'opcion' es 'b', este caso se ejecutará\n",
        "    case 'b':\n",
        "        print(\"Seleccionaste la opción B\")\n",
        "    # Si el valor de 'opcion' es 'c', este caso se ejecutará\n",
        "    case 'c':\n",
        "        print(\"Seleccionaste la opción C\")\n",
        "    # Si el valor de 'opcion' no coincide con ningún caso anterior, este caso se ejecutará\n",
        "    case _:\n",
        "        print(\"Opción no reconocida\")\n",
        "\n"
      ],
      "metadata": {
        "colab": {
          "base_uri": "https://localhost:8080/"
        },
        "id": "s_51sAfWAgnn",
        "outputId": "428dcd4d-9bfd-4eb9-b182-a91783fd2508"
      },
      "execution_count": null,
      "outputs": [
        {
          "output_type": "stream",
          "name": "stdout",
          "text": [
            "Seleccionaste la opción B\n"
          ]
        }
      ]
    }
  ]
}