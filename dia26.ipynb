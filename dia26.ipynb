{
  "nbformat": 4,
  "nbformat_minor": 0,
  "metadata": {
    "colab": {
      "provenance": [],
      "include_colab_link": true
    },
    "kernelspec": {
      "name": "python3",
      "display_name": "Python 3"
    },
    "language_info": {
      "name": "python"
    }
  },
  "cells": [
    {
      "cell_type": "markdown",
      "metadata": {
        "id": "view-in-github",
        "colab_type": "text"
      },
      "source": [
        "<a href=\"https://colab.research.google.com/github/LoboViejo61/LoboViejo.github.io/blob/main/dia26.ipynb\" target=\"_parent\"><img src=\"https://colab.research.google.com/assets/colab-badge.svg\" alt=\"Open In Colab\"/></a>"
      ]
    },
    {
      "cell_type": "code",
      "execution_count": null,
      "metadata": {
        "colab": {
          "base_uri": "https://localhost:8080/"
        },
        "id": "STIr9eOLxbVQ",
        "outputId": "b59877c8-1886-49dd-d37b-2a1a471e3f15"
      },
      "outputs": [
        {
          "output_type": "stream",
          "name": "stdout",
          "text": [
            "Positivos: 5\n",
            "Negativos: 4\n",
            "Ceros: 3\n"
          ]
        }
      ],
      "source": [
        "# Paso 1: Crear una lista de números enteros\n",
        "numeros = [-10, 15, 0, 7, -3, 0, 14, -9, 22, -6, 9, 0]\n",
        "\n",
        "# Paso 2: Inicializar contadores\n",
        "cont_positivos = 0\n",
        "cont_negativos = 0\n",
        "cont_ceros = 0\n",
        "\n",
        "# Paso 3: Iterar sobre la lista de números\n",
        "for num in numeros:\n",
        "    # Paso 4: Verificar la categoría de cada número y actualizar los contadores\n",
        "    if num > 0:\n",
        "        cont_positivos += 1\n",
        "    elif num < 0:\n",
        "        cont_negativos += 1\n",
        "    else:\n",
        "        cont_ceros += 1\n",
        "\n",
        "# Paso 5: Imprimir los conteos\n",
        "print(f'Positivos: {cont_positivos}')\n",
        "print(f'Negativos: {cont_negativos}')\n",
        "print(f'Ceros: {cont_ceros}')\n"
      ]
    },
    {
      "cell_type": "code",
      "source": [
        "import re\n",
        "\n",
        "def validar_email(email):\n",
        "    \"\"\"Función para validar una dirección de correo electrónico.\"\"\"\n",
        "    regex = re.compile(r\"[^@]+@[^@]+\\.[^@]+\")\n",
        "    if regex.match(email):\n",
        "        return \"Correo válido\"\n",
        "    else:\n",
        "        return \"Correo inválido\"\n",
        "\n",
        "# Validar un correo electrónico\n",
        "print(validar_email(\"test@example.com\"))\n"
      ],
      "metadata": {
        "id": "sTESvx59zsh2"
      },
      "execution_count": null,
      "outputs": []
    }
  ]
}