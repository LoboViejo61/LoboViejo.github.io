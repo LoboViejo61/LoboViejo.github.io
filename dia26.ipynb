{
  "nbformat": 4,
  "nbformat_minor": 0,
  "metadata": {
    "colab": {
      "provenance": [],
      "include_colab_link": true
    },
    "kernelspec": {
      "name": "python3",
      "display_name": "Python 3"
    },
    "language_info": {
      "name": "python"
    }
  },
  "cells": [
    {
      "cell_type": "markdown",
      "metadata": {
        "id": "view-in-github",
        "colab_type": "text"
      },
      "source": [
        "<a href=\"https://colab.research.google.com/github/LoboViejo61/LoboViejo.github.io/blob/main/dia26.ipynb\" target=\"_parent\"><img src=\"https://colab.research.google.com/assets/colab-badge.svg\" alt=\"Open In Colab\"/></a>"
      ]
    },
    {
      "cell_type": "code",
      "execution_count": null,
      "metadata": {
        "colab": {
          "base_uri": "https://localhost:8080/"
        },
        "id": "STIr9eOLxbVQ",
        "outputId": "b59877c8-1886-49dd-d37b-2a1a471e3f15"
      },
      "outputs": [
        {
          "output_type": "stream",
          "name": "stdout",
          "text": [
            "Positivos: 5\n",
            "Negativos: 4\n",
            "Ceros: 3\n"
          ]
        }
      ],
      "source": [
        "# Paso 1: Crear una lista de números enteros\n",
        "numeros = [-10, 15, 0, 7, -3, 0, 14, -9, 22, -6, 9, 0]\n",
        "\n",
        "# Paso 2: Inicializar contadores\n",
        "cont_positivos = 0\n",
        "cont_negativos = 0\n",
        "cont_ceros = 0\n",
        "\n",
        "# Paso 3: Iterar sobre la lista de números\n",
        "for num in numeros:\n",
        "    # Paso 4: Verificar la categoría de cada número y actualizar los contadores\n",
        "    if num > 0:\n",
        "        cont_positivos += 1\n",
        "    elif num < 0:\n",
        "        cont_negativos += 1\n",
        "    else:\n",
        "        cont_ceros += 1\n",
        "\n",
        "# Paso 5: Imprimir los conteos\n",
        "print(f'Positivos: {cont_positivos}')\n",
        "print(f'Negativos: {cont_negativos}')\n",
        "print(f'Ceros: {cont_ceros}')\n"
      ]
    },
    {
      "cell_type": "code",
      "source": [
        "# importamos la libreria re\n",
        "import re\n",
        "\n",
        "# crea una funcion para verificar el contenido de una cadena de texto que contengan @ y .\n",
        "def validar_email(email):\n",
        "    \"\"\"Función para validar una dirección de correo electrónico.\"\"\"\n",
        "    regex = re.compile(r\"[^@]+@[^@]+\\.[^@]+\")\n",
        "    if regex.match(email):\n",
        "        return \"Correo válido\"\n",
        "    else:\n",
        "        return \"Correo inválido\"\n",
        "\n",
        "# Validar un correo electrónico\n",
        "print(validar_email(\"teste@xample.com\"))\n"
      ],
      "metadata": {
        "colab": {
          "base_uri": "https://localhost:8080/"
        },
        "id": "sTESvx59zsh2",
        "outputId": "9c6ab860-afb2-47cf-805d-f3c561e1c643"
      },
      "execution_count": null,
      "outputs": [
        {
          "output_type": "stream",
          "name": "stdout",
          "text": [
            "Correo válido\n"
          ]
        }
      ]
    },
    {
      "cell_type": "code",
      "source": [
        "import re  # Importa la biblioteca re\n",
        "\n",
        "# Busca la palabra \"Python\" en la cadena de texto\n",
        "resultado = re.search(\"Python\", \"Aprender Python es divertido\")\n",
        "\n",
        "# Si se encuentra el patrón, imprime la posición en la que comienza y termina\n",
        "if resultado:\n",
        "    print(f\"Se encontró 'Python' desde la posición {resultado.start()} hasta la posición {resultado.end()}\")\n",
        "else:\n",
        "    print(\"No se encontró 'Python'\")\n"
      ],
      "metadata": {
        "colab": {
          "base_uri": "https://localhost:8080/"
        },
        "id": "_ObbOd8z2tmG",
        "outputId": "f495e4a9-4614-41ee-831c-4967581ceede"
      },
      "execution_count": null,
      "outputs": [
        {
          "output_type": "stream",
          "name": "stdout",
          "text": [
            "Se encontró 'Python' desde la posición 9 hasta la posición 15\n"
          ]
        }
      ]
    },
    {
      "cell_type": "code",
      "source": [
        "# funcion para manejo de errores al dividir (ejemplo)\n",
        "def dividir(a, b):\n",
        "    \"\"\"Función para dividir dos números con manejo de excepciones.\"\"\"\n",
        "    try:\n",
        "        resultado = a / b\n",
        "    except ZeroDivisionError:\n",
        "        return \"Error: División por cero.\"\n",
        "    except TypeError:\n",
        "        return \"Error: Entrada no numérica.\"\n",
        "    else:\n",
        "        return resultado\n",
        "\n",
        "# Dividir dos números\n",
        "print(dividir(10, \"ml\"))\n"
      ],
      "metadata": {
        "colab": {
          "base_uri": "https://localhost:8080/"
        },
        "id": "2icuRP9U3rGo",
        "outputId": "689ebe21-ac17-48a0-b123-2404cc6fabf6"
      },
      "execution_count": null,
      "outputs": [
        {
          "output_type": "stream",
          "name": "stdout",
          "text": [
            "Error: Entrada no numérica.\n"
          ]
        }
      ]
    },
    {
      "cell_type": "code",
      "source": [
        "# calcular distancia entre 2 puntos\n",
        "import math\n",
        "\n",
        "def calcular_distancia(p1, p2):\n",
        "    \"\"\"Función para calcular la distancia entre dos puntos.\"\"\"\n",
        "    distancia = math.sqrt((p2[0] - p1[0])**2 + (p2[1] - p1[1])**2)\n",
        "    return distancia\n",
        "\n",
        "# Calcular distancia\n",
        "print(calcular_distancia((0, 0), (3, 4)))\n"
      ],
      "metadata": {
        "id": "9Q4xLZeh5QMF"
      },
      "execution_count": null,
      "outputs": []
    }
  ]
}