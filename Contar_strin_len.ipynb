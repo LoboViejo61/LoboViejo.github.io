{
  "nbformat": 4,
  "nbformat_minor": 0,
  "metadata": {
    "colab": {
      "provenance": [],
      "include_colab_link": true
    },
    "kernelspec": {
      "name": "python3",
      "display_name": "Python 3"
    },
    "language_info": {
      "name": "python"
    }
  },
  "cells": [
    {
      "cell_type": "markdown",
      "metadata": {
        "id": "view-in-github",
        "colab_type": "text"
      },
      "source": [
        "<a href=\"https://colab.research.google.com/github/LoboViejo61/LoboViejo.github.io/blob/main/Contar_strin_len.ipynb\" target=\"_parent\"><img src=\"https://colab.research.google.com/assets/colab-badge.svg\" alt=\"Open In Colab\"/></a>"
      ]
    },
    {
      "cell_type": "code",
      "execution_count": 14,
      "metadata": {
        "colab": {
          "base_uri": "https://localhost:8080/"
        },
        "id": "WohN8CUzkHIV",
        "outputId": "1026ba9d-96ab-4bfd-9b15-de2d933b3e21"
      },
      "outputs": [
        {
          "output_type": "stream",
          "name": "stdout",
          "text": [
            "10\n",
            "Ingrese una palabra:   \n",
            "\n",
            " Tiene:  0 Letras\n",
            "La palabra es corta\n"
          ]
        }
      ],
      "source": [
        "# cuento caracteres de un string\n",
        "texto = \"Hola Mundo\"\n",
        "longitud = len(texto)\n",
        "print(longitud)  # Output: 10\n",
        "\n",
        "\"\"\"\n",
        "  Ejercio: vamos a crear un input donde se escribe palabras y\n",
        " el sistema me devuelva en pantalla el numero de caracteres,\n",
        " si los caracteres son mayor a 10 me de un mensaje de que la palabra\n",
        "  es corta y si es mayor a 10 me indique que la palabra es larga\n",
        "   y si el valor == 0. me indique que no existe nada\n",
        "\n",
        "\"\"\"\n",
        "\n",
        "palabra = input('Ingrese una palabra:   ')\n",
        "longitud = len(palabra)\n",
        "print(palabra)\n",
        "print(f' Tiene: ', longitud , 'Letras')\n",
        "\n",
        "if longitud < 10:\n",
        "    print('La palabra es corta')\n",
        "elif longitud > 10:\n",
        "    print('La palabra es larga')\n",
        "elif longitud == 0:\n",
        "  print('No hay ni na de naaaa ')"
      ]
    }
  ]
}